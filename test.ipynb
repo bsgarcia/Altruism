{
 "cells": [
  {
   "cell_type": "code",
   "execution_count": null,
   "metadata": {},
   "outputs": [],
   "source": [
    "def raise_value_error():\n",
    "    raise ValueError(\"Value Error\")\n",
    "\n",
    "def raise_type_error():\n",
    "    raise TypeError(\"Type Error\")\n",
    "\n",
    "def hidden_catch():\n",
    "    try:\n",
    "        raise_value_error()\n",
    "    except Exception as e:\n",
    "        print('Catched 1: ', e)\n",
    "\n",
    "try:\n",
    "    hidden_catch()\n",
    "except Exception as e:\n",
    "    print('Catched 2: ', e)\n"
   ]
  },
  {
   "cell_type": "code",
   "execution_count": 50,
   "metadata": {},
   "outputs": [
    {
     "data": {
      "text/plain": [
       "12"
      ]
     },
     "execution_count": 50,
     "metadata": {},
     "output_type": "execute_result"
    }
   ],
   "source": [
    "import pandas as pd\n",
    "import json\n",
    "\n",
    "df = pd.read_csv('./altruism_2023-06-09.csv')\n",
    "\n",
    "# select last session\n",
    "df = df[df.session=='osyho897']\n",
    "\n",
    "# drop rows that contain NaN\n",
    "df.dropna(inplace=True)\n",
    "\n",
    "# select groups that have 8 rows (2 * 4rounds ) and therefore are complete\n",
    "df = df.groupby('group_id').filter(lambda x: len(x) == 8)\n",
    "\n",
    "len(df.group_id.unique()) #12\n"
   ]
  }
 ],
 "metadata": {
  "kernelspec": {
   "display_name": "Python 3.8.10 64-bit",
   "language": "python",
   "name": "python3"
  },
  "language_info": {
   "codemirror_mode": {
    "name": "ipython",
    "version": 3
   },
   "file_extension": ".py",
   "mimetype": "text/x-python",
   "name": "python",
   "nbconvert_exporter": "python",
   "pygments_lexer": "ipython3",
   "version": "3.8.10"
  },
  "orig_nbformat": 4,
  "vscode": {
   "interpreter": {
    "hash": "31f2aee4e71d21fbe5cf8b01ff0e069b9275f58929596ceb00d14d90e3e16cd6"
   }
  }
 },
 "nbformat": 4,
 "nbformat_minor": 2
}
