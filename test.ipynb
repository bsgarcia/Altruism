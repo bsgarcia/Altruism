{
 "cells": [
  {
   "cell_type": "code",
   "execution_count": 11,
   "metadata": {},
   "outputs": [
    {
     "name": "stdout",
     "output_type": "stream",
     "text": [
      "Catched 1:  Value Error\n"
     ]
    }
   ],
   "source": [
    "def raise_value_error():\n",
    "    raise ValueError(\"Value Error\")\n",
    "\n",
    "def raise_type_error():\n",
    "    raise TypeError(\"Type Error\")\n",
    "\n",
    "def hidden_catch():\n",
    "    try:\n",
    "        raise_value_error()\n",
    "    except Exception as e:\n",
    "        print('Catched 1: ', e)\n",
    "\n",
    "try:\n",
    "    hidden_catch()\n",
    "except Exception as e:\n",
    "    print('Catched 2: ', e)\n"
   ]
  }
 ],
 "metadata": {
  "kernelspec": {
   "display_name": "Python 3.8.10 64-bit",
   "language": "python",
   "name": "python3"
  },
  "language_info": {
   "codemirror_mode": {
    "name": "ipython",
    "version": 3
   },
   "file_extension": ".py",
   "mimetype": "text/x-python",
   "name": "python",
   "nbconvert_exporter": "python",
   "pygments_lexer": "ipython3",
   "version": "3.8.10"
  },
  "orig_nbformat": 4,
  "vscode": {
   "interpreter": {
    "hash": "31f2aee4e71d21fbe5cf8b01ff0e069b9275f58929596ceb00d14d90e3e16cd6"
   }
  }
 },
 "nbformat": 4,
 "nbformat_minor": 2
}
