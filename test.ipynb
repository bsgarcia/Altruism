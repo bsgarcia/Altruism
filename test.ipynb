{
 "cells": [
  {
   "cell_type": "code",
   "execution_count": 11,
   "metadata": {},
   "outputs": [
    {
     "name": "stdout",
     "output_type": "stream",
     "text": [
      "Catched 1:  Value Error\n"
     ]
    }
   ],
   "source": [
    "def raise_value_error():\n",
    "    raise ValueError(\"Value Error\")\n",
    "\n",
    "def raise_type_error():\n",
    "    raise TypeError(\"Type Error\")\n",
    "\n",
    "def hidden_catch():\n",
    "    try:\n",
    "        raise_value_error()\n",
    "    except Exception as e:\n",
    "        print('Catched 1: ', e)\n",
    "\n",
    "try:\n",
    "    hidden_catch()\n",
    "except Exception as e:\n",
    "    print('Catched 2: ', e)\n"
   ]
  },
  {
   "cell_type": "code",
   "execution_count": 15,
   "metadata": {},
   "outputs": [
    {
     "name": "stdout",
     "output_type": "stream",
     "text": [
      "['number=1,sender=me,msg=I want to give to the nature conservancy', 'number=2,sender=me,msg=I want to give 6 pounds', 'number=3,sender=other,msg=I want to give to none', 'number=4,sender=other,msg=I want to give 0 pounds', 'number=5,sender=other,msg=I will validate', 'number=6,sender=me,msg=No!', 'number=7,sender=me,msg=I will validate', '']\n",
      "[{'number': 1, 'sender': 'me', 'msg': 'I want to give to the nature conservancy'}, {'number': 2, 'sender': 'me', 'msg': 'I want to give 6 pounds'}, {'number': 3, 'sender': 'other', 'msg': 'I want to give to none'}, {'number': 4, 'sender': 'other', 'msg': 'I want to give 0 pounds'}, {'number': 5, 'sender': 'other', 'msg': 'I will validate'}, {'number': 6, 'sender': 'me', 'msg': 'No!'}, {'number': 7, 'sender': 'me', 'msg': 'I will validate'}]\n"
     ]
    }
   ],
   "source": [
    "import pandas as pd\n",
    "import json\n",
    "\n",
    "df = pd.read_csv('test.csv')\n",
    "dd = df.msg_clean.iloc[79].split(';')\n",
    "d = json.loads(df.msg_json.dropna().iloc[1])\n",
    "print(dd)\n",
    "print(d)"
   ]
  }
 ],
 "metadata": {
  "kernelspec": {
   "display_name": "Python 3.8.10 64-bit",
   "language": "python",
   "name": "python3"
  },
  "language_info": {
   "codemirror_mode": {
    "name": "ipython",
    "version": 3
   },
   "file_extension": ".py",
   "mimetype": "text/x-python",
   "name": "python",
   "nbconvert_exporter": "python",
   "pygments_lexer": "ipython3",
   "version": "3.8.10"
  },
  "orig_nbformat": 4,
  "vscode": {
   "interpreter": {
    "hash": "31f2aee4e71d21fbe5cf8b01ff0e069b9275f58929596ceb00d14d90e3e16cd6"
   }
  }
 },
 "nbformat": 4,
 "nbformat_minor": 2
}
